{
 "cells": [
  {
   "cell_type": "code",
   "execution_count": 7,
   "metadata": {
    "collapsed": true
   },
   "outputs": [
    {
     "data": {
      "text/plain": "<torch._C.Generator at 0x17a9448a1b0>"
     },
     "execution_count": 7,
     "metadata": {},
     "output_type": "execute_result"
    }
   ],
   "source": [
    "import torch\n"
   ]
  },
  {
   "cell_type": "code",
   "execution_count": 22,
   "outputs": [
    {
     "name": "stdout",
     "output_type": "stream",
     "text": [
      "tensor([[ 1.2020,  0.4292,  0.2641, -0.7286],\n",
      "        [-0.0967,  0.0076,  1.3150, -1.0966],\n",
      "        [-0.4860, -1.2695,  1.1603, -0.6663],\n",
      "        [-0.1685, -1.1590,  1.6563,  0.6749]])\n",
      "torch.return_types.max(\n",
      "values=tensor([1.2020, 1.3150, 1.1603, 1.6563]),\n",
      "indices=tensor([0, 2, 2, 2]))\n",
      "tensor([[ 1.2020,  0.4292,  0.2641, -0.7286],\n",
      "        [-0.0967,  0.0076,  1.3150, -1.0966],\n",
      "        [-0.4860, -1.2695,  1.1603, -0.6663],\n",
      "        [-0.1685, -1.1590,  1.6563,  0.6749]])\n"
     ]
    }
   ],
   "source": [
    "a = torch.randn(4, 4)\n",
    "print(a)\n",
    "print(torch.max(a, 1))#返回两个东西，一个是每一行的最大值，一个是在行中的位置"
   ],
   "metadata": {
    "collapsed": false
   }
  },
  {
   "cell_type": "code",
   "execution_count": 13,
   "outputs": [
    {
     "data": {
      "text/plain": "3"
     },
     "execution_count": 13,
     "metadata": {},
     "output_type": "execute_result"
    }
   ],
   "source": [
    "x = torch.randn((3,4))\n",
    "x.size(0)"
   ],
   "metadata": {
    "collapsed": false
   }
  },
  {
   "cell_type": "code",
   "execution_count": 16,
   "outputs": [],
   "source": [
    "a = torch.tensor([[1,2,3],[2,3,4],[1,2,3],[6,3,2]],[2,1,3],[2,4,1])\n",
    "b = torch.tensor([1,2,3,1,2,4])\n",
    "train_set = torch.utils.data.TensorDataset(a,b)"
   ],
   "metadata": {
    "collapsed": false
   }
  },
  {
   "cell_type": "code",
   "execution_count": 20,
   "outputs": [
    {
     "name": "stdout",
     "output_type": "stream",
     "text": [
      "第0比数据为[tensor([[6, 3, 2],\n",
      "        [1, 2, 3]]), tensor([1, 1])]\n",
      "第1比数据为[tensor([[2, 3, 4],\n",
      "        [1, 2, 3]]), tensor([2, 3])]\n",
      "2\n"
     ]
    }
   ],
   "source": [
    "trainloader = torch.utils.data.DataLoader(train_set,batch_size=2,shuffle=True)\n",
    "for i,data in enumerate(trainloader):\n",
    "    print(f'第{i}比数据为{data}')\n",
    "print(len(trainloader))"
   ],
   "metadata": {
    "collapsed": false
   }
  },
  {
   "cell_type": "code",
   "execution_count": 24,
   "outputs": [
    {
     "data": {
      "text/plain": "tensor([ True, False, False])"
     },
     "execution_count": 24,
     "metadata": {},
     "output_type": "execute_result"
    }
   ],
   "source": [
    "a = torch.tensor([1,2,3])\n",
    "b = torch.tensor([1,3,2])\n",
    "a==b"
   ],
   "metadata": {
    "collapsed": false
   }
  },
  {
   "cell_type": "code",
   "execution_count": 26,
   "outputs": [
    {
     "data": {
      "text/plain": "1"
     },
     "execution_count": 26,
     "metadata": {},
     "output_type": "execute_result"
    }
   ],
   "source": [
    "(a==b).sum().item()"
   ],
   "metadata": {
    "collapsed": false
   }
  },
  {
   "cell_type": "code",
   "execution_count": null,
   "outputs": [],
   "source": [],
   "metadata": {
    "collapsed": false
   }
  }
 ],
 "metadata": {
  "kernelspec": {
   "display_name": "Python 3",
   "language": "python",
   "name": "python3"
  },
  "language_info": {
   "codemirror_mode": {
    "name": "ipython",
    "version": 2
   },
   "file_extension": ".py",
   "mimetype": "text/x-python",
   "name": "python",
   "nbconvert_exporter": "python",
   "pygments_lexer": "ipython2",
   "version": "2.7.6"
  }
 },
 "nbformat": 4,
 "nbformat_minor": 0
}
